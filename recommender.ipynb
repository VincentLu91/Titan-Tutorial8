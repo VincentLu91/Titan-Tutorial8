{
 "cells": [
  {
   "cell_type": "markdown",
   "metadata": {},
   "source": [
    "```yaml\n",
    "titan: v1\n",
    "service:\n",
    "    image: scipy\n",
    "    machine: \n",
    "        cpu: 4\n",
    "        memory: 2048MB\n",
    "```"
   ]
  },
  {
   "cell_type": "code",
   "execution_count": 1,
   "metadata": {},
   "outputs": [],
   "source": [
    "import os\n",
    "import time\n",
    "import json\n",
    "import functools\n",
    "import pandas as pd\n",
    "import numpy as np\n",
    "from scipy.sparse.linalg import svds"
   ]
  },
  {
   "cell_type": "code",
   "execution_count": 2,
   "metadata": {},
   "outputs": [],
   "source": [
    "# 1M Dataset\n",
    "df_movies = pd.read_csv(\"https://raw.githubusercontent.com/jfuentesibanez/datasets/master/movies.csv\", usecols=['movieId', 'title', 'genre'], sep=';', dtype={'movieId': 'int32', 'title': 'str', 'genre': 'str'})"
   ]
  },
  {
   "cell_type": "code",
   "execution_count": 3,
   "metadata": {},
   "outputs": [],
   "source": [
    "# 1M Dataset\n",
    "df_ratings = pd.read_csv(\"https://raw.githubusercontent.com/jfuentesibanez/datasets/master/ratings.csv\", usecols=['userId', 'movieId', 'rating'], sep=';', dtype={'userId': 'int32', 'movieId': 'int32', 'rating': 'float32'})"
   ]
  },
  {
   "cell_type": "code",
   "execution_count": 4,
   "metadata": {},
   "outputs": [],
   "source": [
    "df_ratings=df_ratings[:200000]\n",
    "df_movie_features = df_ratings.pivot(\n",
    "    index='userId',\n",
    "    columns='movieId',\n",
    "    values='rating'\n",
    ").fillna(0)"
   ]
  },
  {
   "cell_type": "code",
   "execution_count": 5,
   "metadata": {},
   "outputs": [
    {
     "name": "stderr",
     "output_type": "stream",
     "text": [
      "/opt/anaconda3/lib/python3.6/site-packages/ipykernel_launcher.py:1: FutureWarning: Method .as_matrix will be removed in a future version. Use .values instead.\n",
      "  \"\"\"Entry point for launching an IPython kernel.\n"
     ]
    }
   ],
   "source": [
    "R = df_movie_features.as_matrix()\n",
    "user_ratings_mean = np.mean(R, axis = 1)"
   ]
  },
  {
   "cell_type": "code",
   "execution_count": 6,
   "metadata": {},
   "outputs": [],
   "source": [
    "U, sigma, Vt = svds(R, k = 50)\n",
    "sigma = np.diag(sigma)\n",
    "all_user_predicted_ratings = np.dot(np.dot(U, sigma), Vt) + user_ratings_mean.reshape(-1, 1)"
   ]
  },
  {
   "cell_type": "code",
   "execution_count": 7,
   "metadata": {},
   "outputs": [],
   "source": [
    "preds_df = pd.DataFrame(all_user_predicted_ratings, columns = df_movie_features.columns)"
   ]
  },
  {
   "cell_type": "code",
   "execution_count": 8,
   "metadata": {},
   "outputs": [],
   "source": [
    "def recommend_movies(preds_df, userID, movies_df, original_ratings_df, num_recommendations=5):\n",
    "    \n",
    "    # Retrieve and sort user top rated movies and top predictions \n",
    "    user_row_number = userID - 1 \n",
    "    sorted_user_predictions = preds_df.iloc[user_row_number].sort_values(ascending=False) \n",
    "\n",
    "    user_data = original_ratings_df[original_ratings_df.userId == (userID)]\n",
    "    user_full = (user_data.merge(movies_df, how = 'left', left_on = 'movieId', right_on = 'movieId').\n",
    "                     sort_values(['rating'], ascending=False)\n",
    "                 )\n",
    "    predictions = (movies_df[~movies_df['movieId'].isin(user_full['movieId'])]).merge(pd.DataFrame(sorted_user_predictions).reset_index(), how = 'left', left_on = 'movieId',\n",
    "               right_on = 'movieId').rename(columns = {user_row_number: 'Predictions'}).sort_values('Predictions', ascending = False).iloc[:num_recommendations, :-1]\n",
    "                      \n",
    "    return user_full, predictions"
   ]
  },
  {
   "cell_type": "code",
   "execution_count": 9,
   "metadata": {},
   "outputs": [],
   "source": [
    "# Store total elapsed time, total requests, last 10 processing times in milliseconds\n",
    "metrics_ = {'total': 0, 'requests': 0, 'recent': [] }\n",
    "\n",
    "# Maximum processing time metrics to store from most recent to oldest one\n",
    "max_recent_items = 20\n",
    "\n",
    "\n",
    "def store_metrics(start):\n",
    "  elapsed = int((time.time() - start) * 1000)\n",
    "  metrics_['requests'] += 1\n",
    "  metrics_['total'] += elapsed\n",
    "  metrics_['recent'][0:0] = [elapsed]\n",
    "  metrics_['recent'] = metrics_['recent'][0:max_recent_items] if len(metrics_['recent']) >= max_recent_items else metrics_['recent']\n",
    "\n",
    "\n",
    "def measure(fn):\n",
    "  @functools.wraps(fn)\n",
    "  def wrapper(*args, **kwds):\n",
    "    start = time.time()\n",
    "    try:\n",
    "      return fn(*args, **kwds)\n",
    "    finally:\n",
    "      store_metrics(start)\n",
    "  return wrapper\n",
    "\n",
    "\n",
    "def endpoint(fn):\n",
    "  @functools.wraps(fn)\n",
    "  def wrapper(*args, **kwds):\n",
    "    req = args[0] if len(args) > 0 else '{}'\n",
    "    request = json.loads(req)\n",
    "    args = request.get('args', {})\n",
    "    return fn(args, **kwds)\n",
    "  return wrapper"
   ]
  },
  {
   "cell_type": "code",
   "execution_count": 10,
   "metadata": {},
   "outputs": [],
   "source": [
    "def metrics():\n",
    "  # Time units in milliseconds\n",
    "  total_ = metrics_['total']\n",
    "  requests = metrics_['requests']\n",
    "  average_time = int(total_ / requests) if requests > 0 else 0\n",
    "  data = {\n",
    "      'requests': requests,\n",
    "      'average': average_time,\n",
    "      'total_time': total_,\n",
    "      'last_calls': metrics_['recent']\n",
    "  }\n",
    "  return json.dumps(data, indent=2)\n",
    "\n",
    "@measure\n",
    "@endpoint\n",
    "def recompute_svd(args):\n",
    "  k_txt = args.get('param', args.get('50', None))\n",
    "  k = int(list(filter(str.isdigit, k_txt))[0])\n",
    "  U, sigma, Vt = svds(R, k = k)\n",
    "  sigma = np.diag(sigma)\n",
    "  all_user_predicted_ratings = np.dot(np.dot(U, sigma), Vt) + user_ratings_mean.reshape(-1, 1)\n",
    "  return str(k)\n",
    "\n",
    "@endpoint\n",
    "def viewed(args):\n",
    "  user_id_txt = args.get('param', args.get('001', None))\n",
    "  user_id = int(list(filter(str.isdigit, user_id_txt))[0])\n",
    "  already_rated, predictions = recommend_movies(preds_df, user_id, df_movies, df_ratings, 10)\n",
    "  return already_rated.title.to_string(index=False)\n",
    "\n",
    "@endpoint\n",
    "def recommended(args):\n",
    "  user_id_txt = args.get('param', args.get('001', None))\n",
    "  user_id = int(list(filter(str.isdigit, user_id_txt))[0])\n",
    "  already_rated, predictions = recommend_movies(preds_df, user_id, df_movies, df_ratings, 10)\n",
    "  return predictions.title.to_string(index=False)"
   ]
  },
  {
   "cell_type": "code",
   "execution_count": 11,
   "metadata": {},
   "outputs": [],
   "source": [
    "# Mock request object for local API testing\n",
    "args = {\n",
    "    'param': ['400']\n",
    "}\n",
    "REQUEST = json.dumps({ 'args': args })"
   ]
  },
  {
   "cell_type": "code",
   "execution_count": 12,
   "metadata": {},
   "outputs": [
    {
     "name": "stdout",
     "output_type": "stream",
     "text": [
      "{\n",
      "  \"requests\": 0,\n",
      "  \"average\": 0,\n",
      "  \"total_time\": 0,\n",
      "  \"last_calls\": []\n",
      "}\n"
     ]
    }
   ],
   "source": [
    "# GET /metrics\n",
    "print(metrics())"
   ]
  },
  {
   "cell_type": "code",
   "execution_count": 13,
   "metadata": {},
   "outputs": [
    {
     "name": "stdout",
     "output_type": "stream",
     "text": [
      "                                      Glory (1989)\n",
      "                            American Beauty (1999)\n",
      "                           Sixth Sense  The (1999)\n",
      " Star Wars: Episode V - The Empire Strikes Back...\n",
      "                   Ferris Bueller's Day Off (1986)\n",
      "                                Toy Story 2 (1999)\n",
      "                  Silence of the Lambs  The (1991)\n",
      "                                   Die Hard (1988)\n",
      "                                   Election (1999)\n",
      "                        Usual Suspects  The (1995)\n",
      "                                   Rain Man (1988)\n",
      "                           Schindler's List (1993)\n",
      "                              Lethal Weapon (1987)\n",
      "                                 GoodFellas (1990)\n",
      "                        Wrong Trousers  The (1993)\n",
      "                        Blues Brothers  The (1980)\n",
      "                    When Harry Met Sally... (1989)\n",
      "                                Skulls  The (2000)\n",
      "                         Better Off Dead... (1985)\n",
      "                             Pretty in Pink (1986)\n",
      "         Indiana Jones and the Last Crusade (1989)\n",
      "                                Stand by Me (1986)\n",
      "                        Princess Bride  The (1987)\n",
      "                    Raiders of the Lost Ark (1981)\n",
      "                            Sixteen Candles (1984)\n",
      "                         Back to the Future (1985)\n",
      "                                   Predator (1987)\n",
      "                         American History X (1998)\n",
      "                          Good Will Hunting (1997)\n",
      "                                    Titanic (1997)\n",
      "                               Midnight Run (1988)\n",
      "                               Shining  The (1980)\n",
      "                                      Fargo (1996)\n",
      "                 Terminator 2: Judgment Day (1991)\n",
      "                                 Braveheart (1995)\n",
      "                                    Platoon (1986)\n",
      "                                Matrix  The (1999)\n",
      "                       Fish Called Wanda  A (1988)\n",
      "                             Big Chill  The (1983)\n",
      "                      Bringing Out the Dead (1999)\n"
     ]
    }
   ],
   "source": [
    "# POST /viewed\n",
    "print(viewed(REQUEST))"
   ]
  },
  {
   "cell_type": "code",
   "execution_count": 14,
   "metadata": {},
   "outputs": [
    {
     "name": "stdout",
     "output_type": "stream",
     "text": [
      "                  Shawshank Redemption  The (1994)\n",
      "         Star Wars: Episode IV - A New Hope (1977)\n",
      "                        Saving Private Ryan (1998)\n",
      " Star Wars: Episode VI - Return of the Jedi (1983)\n",
      "                               Pulp Fiction (1994)\n",
      "                            Terminator  The (1984)\n",
      "                                  Toy Story (1995)\n",
      "                        Breakfast Club  The (1985)\n",
      "                                  Airplane! (1980)\n",
      "                 E.T. the Extra-Terrestrial (1982)\n"
     ]
    }
   ],
   "source": [
    "# POST /recommended\n",
    "print(recommended(REQUEST))"
   ]
  },
  {
   "cell_type": "code",
   "execution_count": 15,
   "metadata": {},
   "outputs": [
    {
     "name": "stdout",
     "output_type": "stream",
     "text": [
      "400\n"
     ]
    }
   ],
   "source": [
    "# POST /recompute_svd\n",
    "print(recompute_svd(REQUEST))"
   ]
  },
  {
   "cell_type": "code",
   "execution_count": null,
   "metadata": {},
   "outputs": [],
   "source": []
  }
 ],
 "metadata": {
  "kernelspec": {
   "display_name": "Python 3",
   "language": "python",
   "name": "python3"
  },
  "language_info": {
   "codemirror_mode": {
    "name": "ipython",
    "version": 3
   },
   "file_extension": ".py",
   "mimetype": "text/x-python",
   "name": "python",
   "nbconvert_exporter": "python",
   "pygments_lexer": "ipython3",
   "version": "3.6.9"
  }
 },
 "nbformat": 4,
 "nbformat_minor": 4
}
